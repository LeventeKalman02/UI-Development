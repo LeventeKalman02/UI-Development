{
 "cells": [
  {
   "cell_type": "markdown",
   "metadata": {},
   "source": [
    "## Numbers Dataset"
   ]
  },
  {
   "cell_type": "markdown",
   "metadata": {},
   "source": [
    "We have a dataset of handwritten digits from 0 to 9\n",
    "\n",
    "We need some library to read the images, I've chosen the pillow library which comes with Anaconda, if you need to \n",
    "\n",
    "pip install Pillow\n",
    "\n",
    "should install it for you"
   ]
  },
  {
   "cell_type": "code",
   "execution_count": 33,
   "metadata": {},
   "outputs": [],
   "source": [
    "import numpy as np\n",
    "import glob\n",
    "import os\n",
    "import matplotlib.pyplot as plt\n",
    "from PIL import Image"
   ]
  },
  {
   "cell_type": "code",
   "execution_count": null,
   "metadata": {},
   "outputs": [],
   "source": [
    "number_of_classes = 10\n",
    "\n",
    "##Printing Examples\n",
    "def printexamples(X):\n",
    "    examples_per_class = 10\n",
    "    pos = 0\n",
    "    for cls in range(number_of_classes):\n",
    "        idxs = range(pos,pos+500)\n",
    "        idxs = np.random.choice(idxs, examples_per_class, replace=False)\n",
    "        for i, idx in enumerate(idxs):\n",
    "            plt.subplot(examples_per_class, number_of_classes, i * number_of_classes + cls + 1)\n",
    "            plt.imshow(X[idx].reshape(20,20).astype('uint8'), cmap='gray')\n",
    "            plt.axis('off')\n",
    "            if i == 0:\n",
    "                plt.title(str(cls))\n",
    "        pos = pos+500\n",
    "    plt.show()"
   ]
  },
  {
   "cell_type": "code",
   "execution_count": null,
   "metadata": {},
   "outputs": [
    {
     "name": "stdout",
     "output_type": "stream",
     "text": [
      "(0,)\n",
      "(0,)\n",
      "[]\n"
     ]
    }
   ],
   "source": [
    "# get the list of all the files in digits.zip/data and create filelist\n",
    "filelist = glob.glob('data/*/*.txt')\n",
    "\n",
    "#create a file list\n",
    "X = np.array([np.array(Image.open(f).convert('L').resize((64, 64))).flatten() for f in filelist])\n",
    "\n",
    "# Step 3: Extract class labels from filenames\n",
    "# Assuming filenames are like 'category_0_image1.jpg', 'category_1_image2.jpg', etc.\n",
    "y = np.array([int(os.path.basename(f).split('_')[1]) for f in filelist])\n",
    "\n",
    "# Step 4: Ensure X and y are properly structured\n",
    "print(X.shape)  # Should be (num_images, flattened_image_size)\n",
    "print(y.shape)  # Should be (num_images,)\n",
    "print(y)  # Check labels\n",
    "\n",
    "a = [s.split() for s in \" \".join(filelist).split(\"\\\\\") if s]\n",
    "#a = np.array(filename.split('\\\\')[1] for filename in filelist, dtype=int)\n",
    "#print(a.shape)\n"
   ]
  },
  {
   "cell_type": "code",
   "execution_count": null,
   "metadata": {},
   "outputs": [],
   "source": []
  },
  {
   "cell_type": "code",
   "execution_count": null,
   "metadata": {},
   "outputs": [],
   "source": []
  },
  {
   "cell_type": "code",
   "execution_count": null,
   "metadata": {},
   "outputs": [],
   "source": []
  }
 ],
 "metadata": {
  "kernelspec": {
   "display_name": "base",
   "language": "python",
   "name": "python3"
  },
  "language_info": {
   "codemirror_mode": {
    "name": "ipython",
    "version": 3
   },
   "file_extension": ".py",
   "mimetype": "text/x-python",
   "name": "python",
   "nbconvert_exporter": "python",
   "pygments_lexer": "ipython3",
   "version": "3.11.5"
  }
 },
 "nbformat": 4,
 "nbformat_minor": 2
}
