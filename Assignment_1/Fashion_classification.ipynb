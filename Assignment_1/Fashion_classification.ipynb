{
 "cells": [
  {
   "cell_type": "markdown",
   "metadata": {},
   "source": [
    "# Gesture UI Project 1\n",
    "By Levente Kalman\n",
    "\n",
    "Student no: G00392201"
   ]
  },
  {
   "cell_type": "code",
   "execution_count": 2,
   "metadata": {},
   "outputs": [],
   "source": [
    "# Imports\n",
    "import os\n",
    "import glob \n",
    "import numpy as np\n",
    "from PIL import Image\n",
    "import pandas as pd\n",
    "import matplotlib.pyplot as plt\n",
    "from sklearn.model_selection import train_test_split, cross_val_score\n",
    "from sklearn.preprocessing import StandardScaler, LabelEncoder\n",
    "from sklearn.svm import SVC\n",
    "from sklearn.linear_model import LogisticRegression\n",
    "from sklearn.neighbors import KNeighborsClassifier\n",
    "from sklearn.ensemble import RandomForestClassifier\n",
    "from sklearn.metrics import classification_report, confusion_matrix\n",
    "from tqdm import tqdm"
   ]
  },
  {
   "cell_type": "code",
   "execution_count": 3,
   "metadata": {},
   "outputs": [],
   "source": [
    "# Set random seed \n",
    "RANDOM_SEED = 392201"
   ]
  },
  {
   "cell_type": "code",
   "execution_count": 4,
   "metadata": {},
   "outputs": [
    {
     "name": "stdout",
     "output_type": "stream",
     "text": [
      "Shape of X: (70000, 400)\n",
      "Shape of y: (70000,)\n",
      "First 10 labels: [0 0 0 0 0 0 0 0 0 0]\n",
      "Training set size: (42000, 400) (42000,)\n",
      "Validation set size: (14000, 400) (14000,)\n",
      "Test set size: (14000, 400) (14000,)\n"
     ]
    }
   ],
   "source": [
    "# Define dataset path\n",
    "DATASET_PATH = sorted(glob.glob('fashion/*/*.png'))\n",
    "\n",
    "# Define the actual categories present in the dataset\n",
    "categories = ['ankleboot', 'bag', 'coat', 'dress', 'pullover', 'sandal', 'shirt', 'sneaker', 'trouser', 'tshirt-top']\n",
    "\n",
    "# Create a mapping from class names to integer labels\n",
    "class_mapping = {category: idx for idx, category in enumerate(categories)}\n",
    "\n",
    "# Create a file list\n",
    "X = np.array([np.array(Image.open(f).convert('L').resize((20, 20))).flatten() for f in DATASET_PATH]) / 255.0 # normalize pixels\n",
    "# Extract class labels from filenames\n",
    "y = np.array([class_mapping[os.path.basename(os.path.dirname(f))] for f in DATASET_PATH])\n",
    "\n",
    "print(\"Shape of X:\", X.shape)\n",
    "print(\"Shape of y:\", y.shape)\n",
    "print(\"First 10 labels:\", y[:10])  # Check labels\n",
    "\n",
    "a = [s.split() for s in \" \".join(DATASET_PATH).split(\"\\\\\") if s]\n",
    "\n",
    "# Split data into training, validation, and test sets\n",
    "X_train, X_temp, y_train, y_temp = train_test_split(X, y, test_size=0.4, random_state=RANDOM_SEED)\n",
    "X_valid, X_test, y_valid, y_test = train_test_split(X_temp, y_temp, test_size=0.5, random_state=RANDOM_SEED)\n",
    "\n",
    "# Print shapes of datasets\n",
    "print(\"Training set size:\", X_train.shape, y_train.shape)\n",
    "print(\"Validation set size:\", X_valid.shape, y_valid.shape)\n",
    "print(\"Test set size:\", X_test.shape, y_test.shape)"
   ]
  },
  {
   "cell_type": "markdown",
   "metadata": {},
   "source": [
    "# Classifier Methods\n",
    "Classification algorithms used:\n",
    "- SVM\n",
    "- Logistical Regression\n",
    "- K Nearest Neighbor\n",
    "- Random Forest"
   ]
  },
  {
   "cell_type": "markdown",
   "metadata": {},
   "source": [
    "## SVM "
   ]
  },
  {
   "cell_type": "code",
   "execution_count": 5,
   "metadata": {},
   "outputs": [],
   "source": [
    "# Initialize the SVM classifier\n",
    "svm_classifier = SVC(random_state=RANDOM_SEED)\n",
    "\n",
    "# Train the classifier\n",
    "svm_classifier.fit(X_train, y_train)\n",
    "\n",
    "# Evaluate the classifier on the validation set\n",
    "y_pred = svm_classifier.predict(X_valid)\n",
    "accuracy = svm_classifier.score(X_test, y_test)"
   ]
  },
  {
   "cell_type": "code",
   "execution_count": 10,
   "metadata": {},
   "outputs": [
    {
     "name": "stdout",
     "output_type": "stream",
     "text": [
      "              precision    recall  f1-score   support\n",
      "\n",
      "   ankleboot       0.96      0.96      0.96      1363\n",
      "         bag       0.96      0.97      0.97      1414\n",
      "        coat       0.80      0.84      0.82      1395\n",
      "       dress       0.87      0.91      0.89      1441\n",
      "    pullover       0.82      0.80      0.81      1424\n",
      "      sandal       0.97      0.95      0.96      1406\n",
      "       shirt       0.74      0.66      0.70      1403\n",
      "     sneaker       0.93      0.95      0.94      1406\n",
      "     trouser       0.99      0.96      0.98      1387\n",
      "  tshirt-top       0.82      0.87      0.85      1361\n",
      "\n",
      "    accuracy                           0.89     14000\n",
      "   macro avg       0.89      0.89      0.89     14000\n",
      "weighted avg       0.89      0.89      0.89     14000\n",
      "\n",
      "[[1303    1    0    0    0   12    1   46    0    0]\n",
      " [   0 1378    6    6    4    2    9    5    0    4]\n",
      " [   0    4 1171   39   90    0   88    0    2    1]\n",
      " [   0    6   40 1316    8    0   30    0    4   37]\n",
      " [   0    8  150   15 1136    0   95    0    2   18]\n",
      " [  11    5    0    1    0 1335    0   53    0    1]\n",
      " [   0   16   99   49  130    0  921    0    0  188]\n",
      " [  42    1    0    0    0   26    0 1337    0    0]\n",
      " [   0    0    2   42    2    0    2    0 1335    4]\n",
      " [   0   19    4   40   18    2   95    0    0 1183]]\n",
      "SVM Test Accuracy: 0.8859285714285714\n"
     ]
    }
   ],
   "source": [
    "# Print classification report and confusion matrix\n",
    "print(classification_report(y_valid, y_pred, target_names=categories))\n",
    "print(confusion_matrix(y_valid, y_pred))\n",
    "print(\"SVM Test Accuracy:\", accuracy)"
   ]
  },
  {
   "cell_type": "markdown",
   "metadata": {},
   "source": [
    "## Logistical Regression"
   ]
  },
  {
   "cell_type": "code",
   "execution_count": 7,
   "metadata": {},
   "outputs": [],
   "source": [
    "# Initialize the Logistic Regression classifier\n",
    "logistic_regression_classifier = LogisticRegression(random_state=RANDOM_SEED, max_iter=1000)\n",
    "\n",
    "# Train the classifier\n",
    "logistic_regression_classifier.fit(X_train, y_train)\n",
    "\n",
    "# Evaluate the classifier on the validation set\n",
    "y_pred_lr = logistic_regression_classifier.predict(X_valid)\n",
    "accuracy_lr = logistic_regression_classifier.score(X_test, y_test)"
   ]
  },
  {
   "cell_type": "code",
   "execution_count": 8,
   "metadata": {},
   "outputs": [
    {
     "name": "stdout",
     "output_type": "stream",
     "text": [
      "              precision    recall  f1-score   support\n",
      "\n",
      "   ankleboot       0.94      0.95      0.95      1363\n",
      "         bag       0.95      0.95      0.95      1414\n",
      "        coat       0.74      0.79      0.76      1395\n",
      "       dress       0.85      0.88      0.86      1441\n",
      "    pullover       0.76      0.74      0.75      1424\n",
      "      sandal       0.94      0.93      0.94      1406\n",
      "       shirt       0.66      0.59      0.62      1403\n",
      "     sneaker       0.92      0.93      0.93      1406\n",
      "     trouser       0.98      0.96      0.97      1387\n",
      "  tshirt-top       0.80      0.84      0.82      1361\n",
      "\n",
      "    accuracy                           0.85     14000\n",
      "   macro avg       0.85      0.85      0.85     14000\n",
      "weighted avg       0.85      0.85      0.85     14000\n",
      "\n",
      "[[1289    2    0    0    0   23    0   48    0    1]\n",
      " [   1 1344    6    8    9    8   21    7    0   10]\n",
      " [   0    7 1104   40  120    0  123    0    1    0]\n",
      " [   0    9   56 1264   14    0   30    0   18   50]\n",
      " [   0    9  184   16 1048    0  140    1    3   23]\n",
      " [  25   11    0    1    0 1308    1   57    2    1]\n",
      " [   0   15  137   58  163    0  822    1    6  201]\n",
      " [  50    1    0    0    0   41    0 1314    0    0]\n",
      " [   0    0    3   40    9    0    2    0 1329    4]\n",
      " [   0   22    8   56   25    5  105    0    3 1137]]\n",
      "Logistic Regression Test Accuracy: 0.8542857142857143\n"
     ]
    }
   ],
   "source": [
    "# Print classification report and confusion matrix\n",
    "print(classification_report(y_valid, y_pred_lr, target_names=categories))\n",
    "print(confusion_matrix(y_valid, y_pred_lr))\n",
    "print(\"Logistic Regression Test Accuracy:\", accuracy_lr)"
   ]
  },
  {
   "cell_type": "markdown",
   "metadata": {},
   "source": [
    "## K Nearest Neighbor\n"
   ]
  },
  {
   "cell_type": "code",
   "execution_count": 12,
   "metadata": {},
   "outputs": [],
   "source": [
    "# Initialize the KNN classifier\n",
    "knn_classifier = KNeighborsClassifier()\n",
    "\n",
    "# Train the classifier\n",
    "knn_classifier.fit(X_train, y_train)\n",
    "\n",
    "# Evaluate the classifier on the validation set\n",
    "y_pred_knn = knn_classifier.predict(X_valid)\n",
    "accuracy_knn = knn_classifier.score(X_test, y_test)"
   ]
  },
  {
   "cell_type": "code",
   "execution_count": 13,
   "metadata": {},
   "outputs": [
    {
     "name": "stdout",
     "output_type": "stream",
     "text": [
      "              precision    recall  f1-score   support\n",
      "\n",
      "   ankleboot       0.88      0.97      0.92      1363\n",
      "         bag       0.97      0.96      0.96      1414\n",
      "        coat       0.75      0.81      0.78      1395\n",
      "       dress       0.89      0.88      0.89      1441\n",
      "    pullover       0.75      0.78      0.77      1424\n",
      "      sandal       0.99      0.84      0.91      1406\n",
      "       shirt       0.68      0.58      0.63      1403\n",
      "     sneaker       0.89      0.95      0.92      1406\n",
      "     trouser       0.99      0.97      0.98      1387\n",
      "  tshirt-top       0.79      0.84      0.82      1361\n",
      "\n",
      "    accuracy                           0.86     14000\n",
      "   macro avg       0.86      0.86      0.86     14000\n",
      "weighted avg       0.86      0.86      0.86     14000\n",
      "\n",
      "[[1317    0    0    0    1    1    0   44    0    0]\n",
      " [   4 1358    5    8   13    0   15    5    0    6]\n",
      " [   0    3 1132   28  128    0   99    0    1    4]\n",
      " [   0    3   66 1271    9    0   43    0   10   39]\n",
      " [   0    4  177   21 1106    0   99    0    0   17]\n",
      " [  99    8    0    1    0 1187    0  110    0    1]\n",
      " [   0   15  126   36  176    0  819    0    0  231]\n",
      " [  71    0    0    0    0    6    0 1329    0    0]\n",
      " [   0    0    0   23    7    0   10    0 1342    5]\n",
      " [   1   15    6   39   25    1  124    1    1 1148]]\n",
      "KNN Test Accuracy: 0.8563571428571428\n"
     ]
    }
   ],
   "source": [
    "# Print classification report and confusion matrix\n",
    "print(classification_report(y_valid, y_pred_knn, target_names=categories))\n",
    "print(confusion_matrix(y_valid, y_pred_knn))\n",
    "print(\"KNN Test Accuracy:\", accuracy_knn)"
   ]
  },
  {
   "cell_type": "code",
   "execution_count": 16,
   "metadata": {},
   "outputs": [
    {
     "data": {
      "image/png": "[encoded data removed]",
      "text/plain": [
       "<Figure size 640x480 with 1 Axes>"
      ]
     },
     "metadata": {},
     "output_type": "display_data"
    },
    {
     "name": "stdout",
     "output_type": "stream",
     "text": [
      "The best value of K is 7 with a cross-validated accuracy of 0.8519\n"
     ]
    }
   ],
   "source": [
    "# k-Fold Cross Validation to find best k for KNN\n",
    "k_range = range(1, 31)\n",
    "k_scores = []\n",
    "\n",
    "for k in k_range:\n",
    "    knn = KNeighborsClassifier(n_neighbors=k)\n",
    "    scores = cross_val_score(knn, X_train, y_train, cv=5, scoring='accuracy')\n",
    "    k_scores.append(scores.mean())\n",
    "\n",
    "# Plot the results\n",
    "plt.plot(k_range, k_scores)\n",
    "plt.xlabel('Value of K for KNN')\n",
    "plt.ylabel('Cross-Validated Accuracy')\n",
    "plt.title('Finding the Best K for KNN')\n",
    "plt.show()\n",
    "\n",
    "# Find the best K\n",
    "best_k = k_range[np.argmax(k_scores)]\n",
    "print(f'The best value of K is {best_k} with a cross-validated accuracy of {max(k_scores):.4f}')"
   ]
  },
  {
   "cell_type": "code",
   "execution_count": 18,
   "metadata": {},
   "outputs": [],
   "source": [
    "# Re-train the KNN classifier with the best k\n",
    "# Initialize the KNN classifier with the best k\n",
    "knn_best = KNeighborsClassifier(n_neighbors=best_k)\n",
    "\n",
    "# Train the classifier\n",
    "knn_best.fit(X_train, y_train)\n",
    "\n",
    "# Evaluate the classifier on the validation set\n",
    "y_pred_knn_best = knn_best.predict(X_valid)\n",
    "accuracy_knn_best = knn_best.score(X_test, y_test)"
   ]
  },
  {
   "cell_type": "code",
   "execution_count": 19,
   "metadata": {},
   "outputs": [
    {
     "name": "stdout",
     "output_type": "stream",
     "text": [
      "              precision    recall  f1-score   support\n",
      "\n",
      "   ankleboot       0.88      0.97      0.92      1363\n",
      "         bag       0.96      0.96      0.96      1414\n",
      "        coat       0.74      0.79      0.77      1395\n",
      "       dress       0.90      0.88      0.89      1441\n",
      "    pullover       0.74      0.77      0.75      1424\n",
      "      sandal       0.99      0.83      0.91      1406\n",
      "       shirt       0.67      0.58      0.62      1403\n",
      "     sneaker       0.89      0.95      0.92      1406\n",
      "     trouser       0.99      0.96      0.98      1387\n",
      "  tshirt-top       0.78      0.86      0.82      1361\n",
      "\n",
      "    accuracy                           0.85     14000\n",
      "   macro avg       0.86      0.85      0.85     14000\n",
      "weighted avg       0.86      0.85      0.85     14000\n",
      "\n",
      "[[1317    0    0    0    1    1    0   44    0    0]\n",
      " [   4 1356    8    9   14    0   14    5    0    4]\n",
      " [   0    3 1108   28  143    0  108    0    1    4]\n",
      " [   0    4   68 1261   10    0   40    0   12   46]\n",
      " [   0    6  180   16 1097    0  108    0    1   16]\n",
      " [ 101    9    1    1    1 1174    2  117    0    0]\n",
      " [   0   16  122   31  179    0  808    0    0  247]\n",
      " [  72    0    0    0    0    4    0 1330    0    0]\n",
      " [   0    0    1   25    9    0   11    0 1337    4]\n",
      " [   1   14    7   29   29    1  113    1    2 1164]]\n",
      "KNN Test Accuracy with best k: 0.8573571428571428\n"
     ]
    }
   ],
   "source": [
    "# Print classification report and confusion matrix\n",
    "print(classification_report(y_valid, y_pred_knn_best, target_names=categories))\n",
    "print(confusion_matrix(y_valid, y_pred_knn_best))\n",
    "print(\"KNN Test Accuracy with best k:\", accuracy_knn_best)"
   ]
  },
  {
   "cell_type": "markdown",
   "metadata": {},
   "source": [
    "## Random Forest"
   ]
  },
  {
   "cell_type": "code",
   "execution_count": 14,
   "metadata": {},
   "outputs": [],
   "source": [
    "# Initialize the Random Forest classifier\n",
    "random_forest_classifier = RandomForestClassifier(random_state=RANDOM_SEED)\n",
    "\n",
    "# Train the classifier\n",
    "random_forest_classifier.fit(X_train, y_train)\n",
    "\n",
    "# Evaluate the classifier on the validation set\n",
    "y_pred_rf = random_forest_classifier.predict(X_valid)\n",
    "accuracy_rf = random_forest_classifier.score(X_test, y_test)"
   ]
  },
  {
   "cell_type": "code",
   "execution_count": 15,
   "metadata": {},
   "outputs": [
    {
     "name": "stdout",
     "output_type": "stream",
     "text": [
      "              precision    recall  f1-score   support\n",
      "\n",
      "   ankleboot       0.94      0.95      0.94      1363\n",
      "         bag       0.96      0.98      0.97      1414\n",
      "        coat       0.76      0.84      0.80      1395\n",
      "       dress       0.88      0.92      0.90      1441\n",
      "    pullover       0.79      0.79      0.79      1424\n",
      "      sandal       0.96      0.96      0.96      1406\n",
      "       shirt       0.74      0.59      0.66      1403\n",
      "     sneaker       0.94      0.93      0.93      1406\n",
      "     trouser       0.99      0.96      0.98      1387\n",
      "  tshirt-top       0.81      0.85      0.83      1361\n",
      "\n",
      "    accuracy                           0.88     14000\n",
      "   macro avg       0.88      0.88      0.88     14000\n",
      "weighted avg       0.88      0.88      0.88     14000\n",
      "\n",
      "[[1295    2    0    0    1   19    0   46    0    0]\n",
      " [   1 1381    7    3    6    3    6    3    0    4]\n",
      " [   0    6 1178   46   99    0   61    0    2    3]\n",
      " [   0    1   44 1323    9    0   33    0    6   25]\n",
      " [   0   11  188   15 1125    0   71    0    1   13]\n",
      " [  14    6    0    0    0 1344    1   41    0    0]\n",
      " [   0   19  128   44  162    0  830    0    1  219]\n",
      " [  71    3    0    0    0   25    0 1307    0    0]\n",
      " [   0    0    2   34    5    0    6    0 1336    4]\n",
      " [   0   15    4   45   20    2  112    0    1 1162]]\n",
      "Random Forest Test Accuracy: 0.8785\n"
     ]
    }
   ],
   "source": [
    "# Print classification report and confusion matrix\n",
    "print(classification_report(y_valid, y_pred_rf, target_names=categories))\n",
    "print(confusion_matrix(y_valid, y_pred_rf))\n",
    "print(\"Random Forest Test Accuracy:\", accuracy_rf)"
   ]
  }
 ],
 "metadata": {
  "kernelspec": {
   "display_name": "base",
   "language": "python",
   "name": "python3"
  },
  "language_info": {
   "codemirror_mode": {
    "name": "ipython",
    "version": 3
   },
   "file_extension": ".py",
   "mimetype": "text/x-python",
   "name": "python",
   "nbconvert_exporter": "python",
   "pygments_lexer": "ipython3",
   "version": "3.12.7"
  }
 },
 "nbformat": 4,
 "nbformat_minor": 2
}
